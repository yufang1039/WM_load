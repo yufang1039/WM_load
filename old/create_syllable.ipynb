{
 "cells": [
  {
   "cell_type": "raw",
   "metadata": {
    "vscode": {
     "languageId": "raw"
    }
   },
   "source": [
    "# Chinese Syllable Audio Generator\n",
    "\n",
    "This notebook generates random Chinese syllables using Microsoft Edge Text-to-Speech service. The script will:\n",
    "1. Generate random Chinese syllables\n",
    "2. Convert them to high-quality audio using Edge TTS\n",
    "3. Save the audio files in the specified directory\n",
    "\n",
    "Features:\n",
    "- Uses Microsoft's neural TTS voices for natural-sounding speech\n",
    "- Async/await pattern for efficient processing\n",
    "- Multiple voice options (XiaoxiaoNeural, YunxiNeural, XiaoyiNeural)\n",
    "- Configurable speech rate and volume\n",
    "\n",
    "Requirements:\n",
    "- Python 3.x\n",
    "- edge-tts library\n",
    "- asyncio\n"
   ]
  },
  {
   "cell_type": "code",
   "execution_count": 30,
   "metadata": {},
   "outputs": [],
   "source": [
    "import os\n",
    "import random\n",
    "import asyncio\n",
    "import edge_tts\n",
    "from pathlib import Path\n",
    "\n",
    "# Create output directory if it doesn't exist\n",
    "output_dir = Path('chinese')\n",
    "output_dir.mkdir(exist_ok=True)\n",
    "\n",
    "# List of Chinese syllables/words\n",
    "syllables = [\n",
    "    '收音机', '山脉','我不知道'\n",
    "]\n",
    "\n",
    "# Select a high-quality Chinese voice\n",
    "VOICE = \"zh-CN-XiaoxiaoNeural\"  # Female voice\n",
    "# Alternative voices:\n",
    "# VOICE = \"zh-CN-YunxiNeural\"   # Male voice\n",
    "# VOICE = \"zh-CN-XiaoyiNeural\"  # Female voice 2\n"
   ]
  },
  {
   "cell_type": "code",
   "execution_count": 31,
   "metadata": {},
   "outputs": [
    {
     "name": "stdout",
     "output_type": "stream",
     "text": [
      "Generated audio for syllable 1 of word 1/3: 山\n",
      "Generated audio for syllable 2 of word 1/3: 脉\n",
      "Generated audio for syllable 1 of word 2/3: 我\n",
      "Generated audio for syllable 2 of word 2/3: 不\n",
      "Generated audio for syllable 3 of word 2/3: 知\n",
      "Generated audio for syllable 4 of word 2/3: 道\n",
      "Generated audio for syllable 1 of word 3/3: 收\n",
      "Generated audio for syllable 2 of word 3/3: 音\n",
      "Generated audio for syllable 3 of word 3/3: 机\n",
      "\n",
      "All audio files have been generated in the '/Users/yufang/WM_load/syllables/chinese' directory.\n"
     ]
    }
   ],
   "source": [
    "async def generate_syllable_audio(n, output_dir='/Users/yufang/WM_load/syllables/chinese', voice=VOICE, split_syllables=False):\n",
    "    \"\"\"\n",
    "    Generate n random Chinese syllables and convert them to audio files using Edge TTS.\n",
    "    \n",
    "    Args:\n",
    "        n (int): Number of syllables to generate\n",
    "        output_dir (str): Directory to save the audio files\n",
    "        voice (str): Edge TTS voice to use\n",
    "        split_syllables (bool): Whether to split multi-character words into individual syllables\n",
    "    \"\"\"\n",
    "    # Make sure the output directory exists\n",
    "    output_dir = Path(output_dir)\n",
    "    output_dir.mkdir(exist_ok=True)\n",
    "    \n",
    "    # Generate n random syllables\n",
    "    selected_syllables = random.sample(syllables, n)\n",
    "    \n",
    "    # Convert each syllable to audio\n",
    "    for i, word in enumerate(selected_syllables, 1):\n",
    "        if split_syllables:\n",
    "            # Split the word into individual characters/syllables\n",
    "            individual_syllables = list(word)\n",
    "            \n",
    "            # Create a directory for this word's syllables\n",
    "            word_dir = output_dir / f\"{i:03d}_{word}\"\n",
    "            word_dir.mkdir(exist_ok=True)\n",
    "            \n",
    "            # Generate audio for each syllable\n",
    "            for j, syllable in enumerate(individual_syllables, 1):\n",
    "                filename = f\"{i:03d}_{j:02d}_{syllable}.mp3\"\n",
    "                filepath = word_dir / filename\n",
    "                \n",
    "                try:\n",
    "                    # Configure TTS with natural speaking rate and volume\n",
    "                    communicate = edge_tts.Communicate(syllable, voice, rate=\"+0%\", volume=\"+0%\")\n",
    "                    \n",
    "                    # Generate and save audio\n",
    "                    await communicate.save(str(filepath))\n",
    "                    \n",
    "                    print(f\"Generated audio for syllable {j} of word {i}/{n}: {syllable}\")\n",
    "                    \n",
    "                except Exception as e:\n",
    "                    print(f\"Error generating audio for syllable {syllable}: {str(e)}\")\n",
    "                    continue\n",
    "        else:\n",
    "            # Original behavior for whole words\n",
    "            filename = f\"{i:03d}_{word}.mp3\"\n",
    "            filepath = output_dir / filename\n",
    "            \n",
    "            try:\n",
    "                communicate = edge_tts.Communicate(word, voice, rate=\"+0%\", volume=\"+0%\")\n",
    "                await communicate.save(str(filepath))\n",
    "                print(f\"Generated audio for word {i}/{n}: {word}\")\n",
    "                \n",
    "            except Exception as e:\n",
    "                print(f\"Error generating audio for {word}: {str(e)}\")\n",
    "                continue\n",
    "    \n",
    "    print(f\"\\nAll audio files have been generated in the '{output_dir}' directory.\")\n",
    "\n",
    "\n",
    "# Run the async function to generate audio files\n",
    "async def main():\n",
    "    # Set split_syllables=True to generate individual syllable audio files\n",
    "    await generate_syllable_audio(3, split_syllables=True)\n",
    "\n",
    "# Run the async main function\n",
    "await main()\n"
   ]
  },
  {
   "cell_type": "code",
   "execution_count": null,
   "metadata": {},
   "outputs": [],
   "source": []
  }
 ],
 "metadata": {
  "kernelspec": {
   "display_name": "develop_env",
   "language": "python",
   "name": "python3"
  },
  "language_info": {
   "codemirror_mode": {
    "name": "ipython",
    "version": 3
   },
   "file_extension": ".py",
   "mimetype": "text/x-python",
   "name": "python",
   "nbconvert_exporter": "python",
   "pygments_lexer": "ipython3",
   "version": "3.12.8"
  }
 },
 "nbformat": 4,
 "nbformat_minor": 2
}
